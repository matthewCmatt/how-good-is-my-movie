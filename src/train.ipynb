{
 "cells": [
  {
   "cell_type": "code",
   "execution_count": 2,
   "metadata": {},
   "outputs": [],
   "source": [
    "# Load the TensorBoard notebook extension.\n",
    "%load_ext tensorboard"
   ]
  },
  {
   "cell_type": "code",
   "execution_count": 3,
   "metadata": {},
   "outputs": [
    {
     "name": "stdout",
     "output_type": "stream",
     "text": [
      "TensorFlow version:  2.16.1\n"
     ]
    },
    {
     "data": {
      "text/plain": [
       "'2.16.2'"
      ]
     },
     "execution_count": 3,
     "metadata": {},
     "output_type": "execute_result"
    }
   ],
   "source": [
    "from datetime import datetime\n",
    "from packaging import version\n",
    "\n",
    "import tensorflow as tf\n",
    "from tensorflow import keras\n",
    "\n",
    "print(\"TensorFlow version: \", tf.__version__)\n",
    "assert version.parse(tf.__version__).release[0] >= 2, \\\n",
    "    \"This notebook requires TensorFlow 2.0 or above.\"\n",
    "\n",
    "\n",
    "import tensorboard\n",
    "tensorboard.__version__"
   ]
  },
  {
   "cell_type": "code",
   "execution_count": 4,
   "metadata": {},
   "outputs": [],
   "source": [
    "import pandas as pd\n",
    "import ast\n",
    "\n",
    "data_path = '../paired_data.csv'\n",
    "\n",
    "data = pd.read_csv(data_path)\n",
    "data[\"overview_embedding\"] = data[\"overview_embedding\"].apply(ast.literal_eval)"
   ]
  },
  {
   "cell_type": "code",
   "execution_count": 5,
   "metadata": {},
   "outputs": [
    {
     "name": "stderr",
     "output_type": "stream",
     "text": [
      "/home/matt/.local/lib/python3.10/site-packages/tqdm/auto.py:21: TqdmWarning: IProgress not found. Please update jupyter and ipywidgets. See https://ipywidgets.readthedocs.io/en/stable/user_install.html\n",
      "  from .autonotebook import tqdm as notebook_tqdm\n",
      "/home/matt/.local/lib/python3.10/site-packages/huggingface_hub/file_download.py:1132: FutureWarning: `resume_download` is deprecated and will be removed in version 1.0.0. Downloads always resume when possible. If you want to force a new download, use `force_download=True`.\n",
      "  warnings.warn(\n"
     ]
    }
   ],
   "source": [
    "from sentence_transformers import SentenceTransformer\n",
    "transformer = SentenceTransformer('all-MiniLM-L6-v2')"
   ]
  },
  {
   "cell_type": "code",
   "execution_count": 28,
   "metadata": {},
   "outputs": [
    {
     "name": "stdout",
     "output_type": "stream",
     "text": [
      "Epoch 1/30\n"
     ]
    },
    {
     "name": "stderr",
     "output_type": "stream",
     "text": [
      "/home/matt/.local/lib/python3.10/site-packages/keras/src/layers/core/dense.py:87: UserWarning: Do not pass an `input_shape`/`input_dim` argument to a layer. When using Sequential models, prefer using an `Input(shape)` object as the first layer in the model instead.\n",
      "  super().__init__(activity_regularizer=activity_regularizer, **kwargs)\n"
     ]
    },
    {
     "name": "stdout",
     "output_type": "stream",
     "text": [
      "\u001b[1m167/168\u001b[0m \u001b[32m━━━━━━━━━━━━━━━━━━━\u001b[0m\u001b[37m━\u001b[0m \u001b[1m0s\u001b[0m 8ms/step - accuracy: 0.0028 - loss: 7340.3525\n",
      "Epoch 1: val_loss improved from inf to 0.69160, saving model to best_model.keras\n",
      "\u001b[1m168/168\u001b[0m \u001b[32m━━━━━━━━━━━━━━━━━━━━\u001b[0m\u001b[37m\u001b[0m \u001b[1m4s\u001b[0m 10ms/step - accuracy: 0.0028 - loss: 7272.1372 - val_accuracy: 0.0101 - val_loss: 0.6916\n",
      "Epoch 2/30\n",
      "\u001b[1m162/168\u001b[0m \u001b[32m━━━━━━━━━━━━━━━━━━━\u001b[0m\u001b[37m━\u001b[0m \u001b[1m0s\u001b[0m 7ms/step - accuracy: 0.0050 - loss: 46.4386\n",
      "Epoch 2: val_loss improved from 0.69160 to 0.44096, saving model to best_model.keras\n",
      "\u001b[1m168/168\u001b[0m \u001b[32m━━━━━━━━━━━━━━━━━━━━\u001b[0m\u001b[37m\u001b[0m \u001b[1m2s\u001b[0m 9ms/step - accuracy: 0.0050 - loss: 45.4284 - val_accuracy: 0.0101 - val_loss: 0.4410\n",
      "Epoch 3/30\n",
      "\u001b[1m164/168\u001b[0m \u001b[32m━━━━━━━━━━━━━━━━━━━\u001b[0m\u001b[37m━\u001b[0m \u001b[1m0s\u001b[0m 8ms/step - accuracy: 0.0057 - loss: 14.4853\n",
      "Epoch 3: val_loss did not improve from 0.44096\n",
      "\u001b[1m168/168\u001b[0m \u001b[32m━━━━━━━━━━━━━━━━━━━━\u001b[0m\u001b[37m\u001b[0m \u001b[1m1s\u001b[0m 9ms/step - accuracy: 0.0057 - loss: 15.3190 - val_accuracy: 0.0000e+00 - val_loss: 17.3996\n",
      "Epoch 4/30\n",
      "\u001b[1m163/168\u001b[0m \u001b[32m━━━━━━━━━━━━━━━━━━━\u001b[0m\u001b[37m━\u001b[0m \u001b[1m0s\u001b[0m 9ms/step - accuracy: 0.0020 - loss: 11.5097\n",
      "Epoch 4: val_loss improved from 0.44096 to 0.43240, saving model to best_model.keras\n",
      "\u001b[1m168/168\u001b[0m \u001b[32m━━━━━━━━━━━━━━━━━━━━\u001b[0m\u001b[37m\u001b[0m \u001b[1m2s\u001b[0m 10ms/step - accuracy: 0.0020 - loss: 11.3542 - val_accuracy: 0.0101 - val_loss: 0.4324\n",
      "Epoch 5/30\n",
      "\u001b[1m168/168\u001b[0m \u001b[32m━━━━━━━━━━━━━━━━━━━━\u001b[0m\u001b[37m\u001b[0m \u001b[1m0s\u001b[0m 8ms/step - accuracy: 0.0040 - loss: 241.9490\n",
      "Epoch 5: val_loss improved from 0.43240 to 0.41623, saving model to best_model.keras\n",
      "\u001b[1m168/168\u001b[0m \u001b[32m━━━━━━━━━━━━━━━━━━━━\u001b[0m\u001b[37m\u001b[0m \u001b[1m1s\u001b[0m 9ms/step - accuracy: 0.0040 - loss: 241.8324 - val_accuracy: 0.0101 - val_loss: 0.4162\n",
      "Epoch 6/30\n",
      "\u001b[1m164/168\u001b[0m \u001b[32m━━━━━━━━━━━━━━━━━━━\u001b[0m\u001b[37m━\u001b[0m \u001b[1m0s\u001b[0m 8ms/step - accuracy: 0.0057 - loss: 2.4452\n",
      "Epoch 6: val_loss did not improve from 0.41623\n",
      "\u001b[1m168/168\u001b[0m \u001b[32m━━━━━━━━━━━━━━━━━━━━\u001b[0m\u001b[37m\u001b[0m \u001b[1m1s\u001b[0m 9ms/step - accuracy: 0.0057 - loss: 2.4731 - val_accuracy: 0.0101 - val_loss: 0.4164\n",
      "Epoch 7/30\n",
      "\u001b[1m166/168\u001b[0m \u001b[32m━━━━━━━━━━━━━━━━━━━\u001b[0m\u001b[37m━\u001b[0m \u001b[1m0s\u001b[0m 8ms/step - accuracy: 0.0064 - loss: 0.9835\n",
      "Epoch 7: val_loss did not improve from 0.41623\n",
      "\u001b[1m168/168\u001b[0m \u001b[32m━━━━━━━━━━━━━━━━━━━━\u001b[0m\u001b[37m\u001b[0m \u001b[1m2s\u001b[0m 9ms/step - accuracy: 0.0064 - loss: 0.9876 - val_accuracy: 0.0101 - val_loss: 0.4165\n",
      "Epoch 8/30\n",
      "\u001b[1m164/168\u001b[0m \u001b[32m━━━━━━━━━━━━━━━━━━━\u001b[0m\u001b[37m━\u001b[0m \u001b[1m0s\u001b[0m 9ms/step - accuracy: 0.0060 - loss: 0.3801\n",
      "Epoch 8: val_loss did not improve from 0.41623\n",
      "\u001b[1m168/168\u001b[0m \u001b[32m━━━━━━━━━━━━━━━━━━━━\u001b[0m\u001b[37m\u001b[0m \u001b[1m2s\u001b[0m 10ms/step - accuracy: 0.0060 - loss: 0.3823 - val_accuracy: 0.0101 - val_loss: 0.4189\n",
      "Epoch 9/30\n",
      "\u001b[1m161/168\u001b[0m \u001b[32m━━━━━━━━━━━━━━━━━━━\u001b[0m\u001b[37m━\u001b[0m \u001b[1m0s\u001b[0m 8ms/step - accuracy: 0.0045 - loss: 0.8850\n",
      "Epoch 9: val_loss did not improve from 0.41623\n",
      "\u001b[1m168/168\u001b[0m \u001b[32m━━━━━━━━━━━━━━━━━━━━\u001b[0m\u001b[37m\u001b[0m \u001b[1m2s\u001b[0m 9ms/step - accuracy: 0.0045 - loss: 0.8799 - val_accuracy: 0.0101 - val_loss: 0.4171\n",
      "Epoch 10/30\n",
      "\u001b[1m164/168\u001b[0m \u001b[32m━━━━━━━━━━━━━━━━━━━\u001b[0m\u001b[37m━\u001b[0m \u001b[1m0s\u001b[0m 8ms/step - accuracy: 0.0066 - loss: 0.3871\n",
      "Epoch 10: val_loss did not improve from 0.41623\n",
      "\u001b[1m168/168\u001b[0m \u001b[32m━━━━━━━━━━━━━━━━━━━━\u001b[0m\u001b[37m\u001b[0m \u001b[1m1s\u001b[0m 8ms/step - accuracy: 0.0066 - loss: 0.3869 - val_accuracy: 0.0101 - val_loss: 0.4195\n",
      "Epoch 11/30\n",
      "\u001b[1m166/168\u001b[0m \u001b[32m━━━━━━━━━━━━━━━━━━━\u001b[0m\u001b[37m━\u001b[0m \u001b[1m0s\u001b[0m 8ms/step - accuracy: 0.0051 - loss: 0.4484\n",
      "Epoch 11: val_loss did not improve from 0.41623\n",
      "\u001b[1m168/168\u001b[0m \u001b[32m━━━━━━━━━━━━━━━━━━━━\u001b[0m\u001b[37m\u001b[0m \u001b[1m1s\u001b[0m 8ms/step - accuracy: 0.0051 - loss: 0.4498 - val_accuracy: 0.0101 - val_loss: 0.4163\n",
      "Epoch 12/30\n",
      "\u001b[1m162/168\u001b[0m \u001b[32m━━━━━━━━━━━━━━━━━━━\u001b[0m\u001b[37m━\u001b[0m \u001b[1m0s\u001b[0m 8ms/step - accuracy: 0.0054 - loss: 0.3951\n",
      "Epoch 12: val_loss improved from 0.41623 to 0.41604, saving model to best_model.keras\n",
      "\u001b[1m168/168\u001b[0m \u001b[32m━━━━━━━━━━━━━━━━━━━━\u001b[0m\u001b[37m\u001b[0m \u001b[1m3s\u001b[0m 9ms/step - accuracy: 0.0054 - loss: 0.3949 - val_accuracy: 0.0101 - val_loss: 0.4160\n",
      "Epoch 13/30\n",
      "\u001b[1m166/168\u001b[0m \u001b[32m━━━━━━━━━━━━━━━━━━━\u001b[0m\u001b[37m━\u001b[0m \u001b[1m0s\u001b[0m 8ms/step - accuracy: 0.0049 - loss: 6.5598\n",
      "Epoch 13: val_loss did not improve from 0.41604\n",
      "\u001b[1m168/168\u001b[0m \u001b[32m━━━━━━━━━━━━━━━━━━━━\u001b[0m\u001b[37m\u001b[0m \u001b[1m1s\u001b[0m 9ms/step - accuracy: 0.0049 - loss: 6.6387 - val_accuracy: 0.0101 - val_loss: 0.4192\n",
      "Epoch 14/30\n",
      "\u001b[1m163/168\u001b[0m \u001b[32m━━━━━━━━━━━━━━━━━━━\u001b[0m\u001b[37m━\u001b[0m \u001b[1m0s\u001b[0m 8ms/step - accuracy: 0.0041 - loss: 0.4426\n",
      "Epoch 14: val_loss did not improve from 0.41604\n",
      "\u001b[1m168/168\u001b[0m \u001b[32m━━━━━━━━━━━━━━━━━━━━\u001b[0m\u001b[37m\u001b[0m \u001b[1m1s\u001b[0m 8ms/step - accuracy: 0.0042 - loss: 0.4595 - val_accuracy: 0.0101 - val_loss: 0.4162\n",
      "Epoch 15/30\n",
      "\u001b[1m164/168\u001b[0m \u001b[32m━━━━━━━━━━━━━━━━━━━\u001b[0m\u001b[37m━\u001b[0m \u001b[1m0s\u001b[0m 8ms/step - accuracy: 0.0087 - loss: 6.6528\n",
      "Epoch 15: val_loss did not improve from 0.41604\n",
      "\u001b[1m168/168\u001b[0m \u001b[32m━━━━━━━━━━━━━━━━━━━━\u001b[0m\u001b[37m\u001b[0m \u001b[1m1s\u001b[0m 8ms/step - accuracy: 0.0086 - loss: 6.8086 - val_accuracy: 0.0101 - val_loss: 0.4680\n",
      "Epoch 16/30\n",
      "\u001b[1m164/168\u001b[0m \u001b[32m━━━━━━━━━━━━━━━━━━━\u001b[0m\u001b[37m━\u001b[0m \u001b[1m0s\u001b[0m 8ms/step - accuracy: 0.0060 - loss: 576.8561\n",
      "Epoch 16: val_loss did not improve from 0.41604\n",
      "\u001b[1m168/168\u001b[0m \u001b[32m━━━━━━━━━━━━━━━━━━━━\u001b[0m\u001b[37m\u001b[0m \u001b[1m1s\u001b[0m 9ms/step - accuracy: 0.0060 - loss: 592.4979 - val_accuracy: 0.0101 - val_loss: 0.4264\n",
      "Epoch 17/30\n",
      "\u001b[1m164/168\u001b[0m \u001b[32m━━━━━━━━━━━━━━━━━━━\u001b[0m\u001b[37m━\u001b[0m \u001b[1m0s\u001b[0m 8ms/step - accuracy: 0.0045 - loss: 0.3770\n",
      "Epoch 17: val_loss did not improve from 0.41604\n",
      "\u001b[1m168/168\u001b[0m \u001b[32m━━━━━━━━━━━━━━━━━━━━\u001b[0m\u001b[37m\u001b[0m \u001b[1m2s\u001b[0m 9ms/step - accuracy: 0.0045 - loss: 0.3773 - val_accuracy: 0.0101 - val_loss: 0.4672\n",
      "Epoch 18/30\n",
      "\u001b[1m166/168\u001b[0m \u001b[32m━━━━━━━━━━━━━━━━━━━\u001b[0m\u001b[37m━\u001b[0m \u001b[1m0s\u001b[0m 7ms/step - accuracy: 0.0060 - loss: 197.6290\n",
      "Epoch 18: val_loss did not improve from 0.41604\n",
      "\u001b[1m168/168\u001b[0m \u001b[32m━━━━━━━━━━━━━━━━━━━━\u001b[0m\u001b[37m\u001b[0m \u001b[1m1s\u001b[0m 8ms/step - accuracy: 0.0060 - loss: 202.2423 - val_accuracy: 0.0101 - val_loss: 0.4268\n",
      "Epoch 19/30\n",
      "\u001b[1m163/168\u001b[0m \u001b[32m━━━━━━━━━━━━━━━━━━━\u001b[0m\u001b[37m━\u001b[0m \u001b[1m0s\u001b[0m 7ms/step - accuracy: 0.0048 - loss: 1.6102\n",
      "Epoch 19: val_loss did not improve from 0.41604\n",
      "\u001b[1m168/168\u001b[0m \u001b[32m━━━━━━━━━━━━━━━━━━━━\u001b[0m\u001b[37m\u001b[0m \u001b[1m1s\u001b[0m 7ms/step - accuracy: 0.0048 - loss: 1.6489 - val_accuracy: 0.0101 - val_loss: 0.4724\n",
      "Epoch 20/30\n",
      "\u001b[1m162/168\u001b[0m \u001b[32m━━━━━━━━━━━━━━━━━━━\u001b[0m\u001b[37m━\u001b[0m \u001b[1m0s\u001b[0m 7ms/step - accuracy: 0.0057 - loss: 0.4089\n",
      "Epoch 20: val_loss did not improve from 0.41604\n",
      "\u001b[1m168/168\u001b[0m \u001b[32m━━━━━━━━━━━━━━━━━━━━\u001b[0m\u001b[37m\u001b[0m \u001b[1m1s\u001b[0m 8ms/step - accuracy: 0.0057 - loss: 0.4089 - val_accuracy: 0.0101 - val_loss: 0.4221\n",
      "Epoch 21/30\n",
      "\u001b[1m166/168\u001b[0m \u001b[32m━━━━━━━━━━━━━━━━━━━\u001b[0m\u001b[37m━\u001b[0m \u001b[1m0s\u001b[0m 7ms/step - accuracy: 0.0052 - loss: 0.3993\n",
      "Epoch 21: val_loss did not improve from 0.41604\n",
      "\u001b[1m168/168\u001b[0m \u001b[32m━━━━━━━━━━━━━━━━━━━━\u001b[0m\u001b[37m\u001b[0m \u001b[1m1s\u001b[0m 8ms/step - accuracy: 0.0052 - loss: 0.3995 - val_accuracy: 0.0101 - val_loss: 0.4199\n",
      "Epoch 22/30\n",
      "\u001b[1m164/168\u001b[0m \u001b[32m━━━━━━━━━━━━━━━━━━━\u001b[0m\u001b[37m━\u001b[0m \u001b[1m0s\u001b[0m 8ms/step - accuracy: 0.0046 - loss: 0.4175\n",
      "Epoch 22: val_loss did not improve from 0.41604\n",
      "\u001b[1m168/168\u001b[0m \u001b[32m━━━━━━━━━━━━━━━━━━━━\u001b[0m\u001b[37m\u001b[0m \u001b[1m1s\u001b[0m 8ms/step - accuracy: 0.0046 - loss: 0.4171 - val_accuracy: 0.0101 - val_loss: 0.4182\n",
      "Epoch 23/30\n",
      "\u001b[1m166/168\u001b[0m \u001b[32m━━━━━━━━━━━━━━━━━━━\u001b[0m\u001b[37m━\u001b[0m \u001b[1m0s\u001b[0m 8ms/step - accuracy: 0.0061 - loss: 29.8796\n",
      "Epoch 23: val_loss did not improve from 0.41604\n",
      "\u001b[1m168/168\u001b[0m \u001b[32m━━━━━━━━━━━━━━━━━━━━\u001b[0m\u001b[37m\u001b[0m \u001b[1m1s\u001b[0m 8ms/step - accuracy: 0.0060 - loss: 30.1782 - val_accuracy: 0.0101 - val_loss: 0.4218\n",
      "Epoch 24/30\n",
      "\u001b[1m165/168\u001b[0m \u001b[32m━━━━━━━━━━━━━━━━━━━\u001b[0m\u001b[37m━\u001b[0m \u001b[1m0s\u001b[0m 7ms/step - accuracy: 0.0057 - loss: 0.4018\n",
      "Epoch 24: val_loss did not improve from 0.41604\n",
      "\u001b[1m168/168\u001b[0m \u001b[32m━━━━━━━━━━━━━━━━━━━━\u001b[0m\u001b[37m\u001b[0m \u001b[1m1s\u001b[0m 8ms/step - accuracy: 0.0057 - loss: 0.4015 - val_accuracy: 0.0101 - val_loss: 0.4252\n",
      "Epoch 25/30\n",
      "\u001b[1m166/168\u001b[0m \u001b[32m━━━━━━━━━━━━━━━━━━━\u001b[0m\u001b[37m━\u001b[0m \u001b[1m0s\u001b[0m 8ms/step - accuracy: 0.0044 - loss: 0.3843\n",
      "Epoch 25: val_loss did not improve from 0.41604\n",
      "\u001b[1m168/168\u001b[0m \u001b[32m━━━━━━━━━━━━━━━━━━━━\u001b[0m\u001b[37m\u001b[0m \u001b[1m3s\u001b[0m 8ms/step - accuracy: 0.0044 - loss: 0.3844 - val_accuracy: 0.0101 - val_loss: 0.4170\n",
      "Epoch 26/30\n",
      "\u001b[1m164/168\u001b[0m \u001b[32m━━━━━━━━━━━━━━━━━━━\u001b[0m\u001b[37m━\u001b[0m \u001b[1m0s\u001b[0m 7ms/step - accuracy: 0.0056 - loss: 0.4053\n",
      "Epoch 26: val_loss did not improve from 0.41604\n",
      "\u001b[1m168/168\u001b[0m \u001b[32m━━━━━━━━━━━━━━━━━━━━\u001b[0m\u001b[37m\u001b[0m \u001b[1m1s\u001b[0m 8ms/step - accuracy: 0.0056 - loss: 0.4050 - val_accuracy: 0.0101 - val_loss: 0.4398\n",
      "Epoch 27/30\n",
      "\u001b[1m167/168\u001b[0m \u001b[32m━━━━━━━━━━━━━━━━━━━\u001b[0m\u001b[37m━\u001b[0m \u001b[1m0s\u001b[0m 8ms/step - accuracy: 0.0049 - loss: 0.3839\n",
      "Epoch 27: val_loss did not improve from 0.41604\n",
      "\u001b[1m168/168\u001b[0m \u001b[32m━━━━━━━━━━━━━━━━━━━━\u001b[0m\u001b[37m\u001b[0m \u001b[1m2s\u001b[0m 9ms/step - accuracy: 0.0049 - loss: 0.3840 - val_accuracy: 0.0101 - val_loss: 0.4311\n",
      "Epoch 28/30\n",
      "\u001b[1m167/168\u001b[0m \u001b[32m━━━━━━━━━━━━━━━━━━━\u001b[0m\u001b[37m━\u001b[0m \u001b[1m0s\u001b[0m 7ms/step - accuracy: 0.0054 - loss: 0.3900\n",
      "Epoch 28: val_loss did not improve from 0.41604\n",
      "\u001b[1m168/168\u001b[0m \u001b[32m━━━━━━━━━━━━━━━━━━━━\u001b[0m\u001b[37m\u001b[0m \u001b[1m1s\u001b[0m 8ms/step - accuracy: 0.0054 - loss: 0.3900 - val_accuracy: 0.0101 - val_loss: 0.4252\n",
      "Epoch 29/30\n",
      "\u001b[1m163/168\u001b[0m \u001b[32m━━━━━━━━━━━━━━━━━━━\u001b[0m\u001b[37m━\u001b[0m \u001b[1m0s\u001b[0m 8ms/step - accuracy: 0.0034 - loss: 0.4735\n",
      "Epoch 29: val_loss did not improve from 0.41604\n",
      "\u001b[1m168/168\u001b[0m \u001b[32m━━━━━━━━━━━━━━━━━━━━\u001b[0m\u001b[37m\u001b[0m \u001b[1m1s\u001b[0m 8ms/step - accuracy: 0.0035 - loss: 0.4717 - val_accuracy: 0.0101 - val_loss: 0.4166\n",
      "Epoch 30/30\n",
      "\u001b[1m166/168\u001b[0m \u001b[32m━━━━━━━━━━━━━━━━━━━\u001b[0m\u001b[37m━\u001b[0m \u001b[1m0s\u001b[0m 8ms/step - accuracy: 0.0039 - loss: 0.3982\n",
      "Epoch 30: val_loss did not improve from 0.41604\n",
      "\u001b[1m168/168\u001b[0m \u001b[32m━━━━━━━━━━━━━━━━━━━━\u001b[0m\u001b[37m\u001b[0m \u001b[1m3s\u001b[0m 8ms/step - accuracy: 0.0039 - loss: 0.3983 - val_accuracy: 0.0101 - val_loss: 0.4163\n",
      "\u001b[1m47/47\u001b[0m \u001b[32m━━━━━━━━━━━━━━━━━━━━\u001b[0m\u001b[37m\u001b[0m \u001b[1m0s\u001b[0m 5ms/step\n",
      "Mean Squared Error: 0.38413386426795626\n"
     ]
    }
   ],
   "source": [
    "import numpy as np\n",
    "from sklearn.model_selection import train_test_split\n",
    "from sklearn.preprocessing import StandardScaler\n",
    "from sklearn.metrics import mean_squared_error\n",
    "import tensorflow as tf\n",
    "from joblib import dump\n",
    "\n",
    "# Convert embedding column from list to numpy array\n",
    "data[\"overview_embedding\"] = data[\"overview_embedding\"].apply(np.array)\n",
    "\n",
    "# Split the data into features (X) and target (y)\n",
    "X = np.vstack(data[\"overview_embedding\"].values)\n",
    "y = data['average_rating']\n",
    "\n",
    "# Split data into training and testing sets\n",
    "X_train, X_test, y_train, y_test = train_test_split(X, y, test_size=0.2, random_state=41)\n",
    "\n",
    "# Standardize features\n",
    "x_scaler = StandardScaler()\n",
    "X_train_scaled = x_scaler.fit_transform(X_train)\n",
    "X_test_scaled = x_scaler.transform(X_test)\n",
    "\n",
    "# Define the neural network architecture\n",
    "model = tf.keras.models.Sequential([\n",
    "    tf.keras.layers.Dense(256, activation='relu', input_shape=(X_train_scaled.shape[1],)),\n",
    "    tf.keras.layers.Dropout(0.5),\n",
    "    tf.keras.layers.Dense(256, activation='relu'),\n",
    "    tf.keras.layers.Dropout(0.5),\n",
    "    tf.keras.layers.Dense(256, activation='relu'),\n",
    "    tf.keras.layers.Dense(1)\n",
    "])\n",
    "\n",
    "logdir=\"logs/fit/\" + datetime.now().strftime(\"%Y%m%d-%H%M%S\")\n",
    "tensorboard_callback = tf.keras.callbacks.TensorBoard(log_dir=logdir)\n",
    "\n",
    "# Compile the model\n",
    "optimizer = tf.keras.optimizers.Adam(learning_rate=0.05)\n",
    "loss_fn = tf.keras.losses.MeanSquaredError(name=\"mean_squared_error\")\n",
    "model.compile(optimizer=optimizer, loss=loss_fn, metrics=['accuracy'])\n",
    "\n",
    "# Checkpoint callback\n",
    "checkpoint_callback = tf.keras.callbacks.ModelCheckpoint(\n",
    "    filepath='best_model.keras',\n",
    "    monitor='val_loss',\n",
    "    save_best_only=True,\n",
    "    verbose=1\n",
    ")\n",
    "\n",
    "# Train the model\n",
    "model.fit(X_train_scaled, y_train, epochs=30, validation_split=0.1, callbacks=[checkpoint_callback, tensorboard_callback])\n",
    "\n",
    "# Evaluate the model\n",
    "y_pred = model.predict(X_test_scaled)\n",
    "mse = mean_squared_error(y_test, y_pred)\n",
    "print('Mean Squared Error:', mse)\n",
    "\n",
    "# Save the model\n",
    "dump(x_scaler, 'scaler.joblib')\n",
    "model.save('movie_rating_prediction_model.keras')"
   ]
  },
  {
   "cell_type": "code",
   "execution_count": 24,
   "metadata": {},
   "outputs": [
    {
     "name": "stdout",
     "output_type": "stream",
     "text": [
      "The filmmaking team behind the hits \"Scary Movie,\" \"Date Movie,\" \"Epic Movie\" and \"Meet The Spartans\" this time puts its unique, inimitable stamp on one of the biggest and most bloated movie genres of all time -- the disaster film.\n",
      "\u001b[1m1/1\u001b[0m \u001b[32m━━━━━━━━━━━━━━━━━━━━\u001b[0m\u001b[37m\u001b[0m \u001b[1m0s\u001b[0m 21ms/step\n",
      "prediction: [[3.2491636]]\n"
     ]
    }
   ],
   "source": [
    "from sklearn.preprocessing import StandardScaler\n",
    "from joblib import load\n",
    "import numpy as np\n",
    "\n",
    "overview: str = input(\"Give your movie overview: \")\n",
    "print(overview)\n",
    "\n",
    "# Now you can use the loaded scaler to transform new data\n",
    "scaled_embed = x_scaler.transform(np.array(transformer.encode(overview)).reshape(1, -1))\n",
    "\n",
    "predicted_rating = model.predict(scaled_embed)\n",
    "\n",
    "print(f\"prediction: {predicted_rating}\")"
   ]
  }
 ],
 "metadata": {
  "kernelspec": {
   "display_name": "Python 3",
   "language": "python",
   "name": "python3"
  },
  "language_info": {
   "codemirror_mode": {
    "name": "ipython",
    "version": 3
   },
   "file_extension": ".py",
   "mimetype": "text/x-python",
   "name": "python",
   "nbconvert_exporter": "python",
   "pygments_lexer": "ipython3",
   "version": "3.10.12"
  }
 },
 "nbformat": 4,
 "nbformat_minor": 2
}
