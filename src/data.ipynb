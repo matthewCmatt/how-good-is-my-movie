{
 "cells": [
  {
   "cell_type": "code",
   "execution_count": 1,
   "metadata": {},
   "outputs": [
    {
     "name": "stderr",
     "output_type": "stream",
     "text": [
      "/home/matt/.local/lib/python3.10/site-packages/tqdm/auto.py:21: TqdmWarning: IProgress not found. Please update jupyter and ipywidgets. See https://ipywidgets.readthedocs.io/en/stable/user_install.html\n",
      "  from .autonotebook import tqdm as notebook_tqdm\n",
      "/home/matt/.local/lib/python3.10/site-packages/huggingface_hub/file_download.py:1132: FutureWarning: `resume_download` is deprecated and will be removed in version 1.0.0. Downloads always resume when possible. If you want to force a new download, use `force_download=True`.\n",
      "  warnings.warn(\n"
     ]
    }
   ],
   "source": [
    "import pandas as pd\n",
    "from sentence_transformers import SentenceTransformer\n",
    "\n",
    "# Load the SentenceTransformer model\n",
    "model = SentenceTransformer('all-MiniLM-L6-v2')"
   ]
  },
  {
   "cell_type": "code",
   "execution_count": 2,
   "metadata": {},
   "outputs": [],
   "source": [
    "# Load movies metadata from movies_metadata.csv\n",
    "movies_metadata = pd.read_csv('../movies_metadata.csv')\n",
    "movies_metadata = movies_metadata.dropna(subset=['overview'])\n",
    "movies_metadata['id'] = movies_metadata['id'].astype(int) # ID is actually the tmdbId\n",
    "movies_metadata['overview'] = movies_metadata['overview'].astype('string')"
   ]
  },
  {
   "cell_type": "code",
   "execution_count": 3,
   "metadata": {},
   "outputs": [],
   "source": [
    "# Load links data from links.csv\n",
    "links = pd.read_csv('../links.csv')"
   ]
  },
  {
   "cell_type": "code",
   "execution_count": 4,
   "metadata": {},
   "outputs": [],
   "source": [
    "# Load ratings data from ratings.csv\n",
    "ratings_data = pd.read_csv('../ratings.csv')"
   ]
  },
  {
   "cell_type": "code",
   "execution_count": 5,
   "metadata": {},
   "outputs": [],
   "source": [
    "# Group ratings by movieId and calculate average ratings\n",
    "computed_ratings = ratings_data.groupby('movieId')['rating'].mean().reset_index()\n",
    "\n",
    "# Assuming you have a DataFrame named links with movieId and tmdbId columns\n",
    "# Merge computed_ratings with links on movieId\n",
    "computed_ratings = computed_ratings.merge(links, on='movieId', how='inner')"
   ]
  },
  {
   "cell_type": "code",
   "execution_count": 6,
   "metadata": {},
   "outputs": [
    {
     "name": "stdout",
     "output_type": "stream",
     "text": [
      "(43864, 28)\n"
     ]
    }
   ],
   "source": [
    "# Merge movies metadata with average ratings using movieId as key\n",
    "merged_data = pd.merge(movies_metadata, computed_ratings, left_on='id', right_on='tmdbId', how='inner')\n",
    "print(merged_data.shape)"
   ]
  },
  {
   "cell_type": "code",
   "execution_count": 7,
   "metadata": {},
   "outputs": [],
   "source": [
    "# Process overview text and obtain embeddings\n",
    "overview_embeddings = model.encode(merged_data['overview'])"
   ]
  },
  {
   "cell_type": "code",
   "execution_count": 9,
   "metadata": {},
   "outputs": [
    {
     "name": "stdout",
     "output_type": "stream",
     "text": [
      "(43864, 28)\n",
      "(43864, 3)\n"
     ]
    }
   ],
   "source": [
    "# Pair movieId with overview embeddings and average ratings\n",
    "paired_data = pd.DataFrame({\n",
    "    'movieId': merged_data['movieId'],\n",
    "    'overview_embedding': overview_embeddings.tolist(),\n",
    "    'average_rating': merged_data['rating']\n",
    "})\n",
    "\n",
    "print(merged_data.shape)\n",
    "print(paired_data.shape)\n",
    "\n",
    "# Save paired data to a new CSV file\n",
    "paired_data.to_csv('../paired_data.csv', index=False)"
   ]
  }
 ],
 "metadata": {
  "kernelspec": {
   "display_name": "Python 3",
   "language": "python",
   "name": "python3"
  },
  "language_info": {
   "codemirror_mode": {
    "name": "ipython",
    "version": 3
   },
   "file_extension": ".py",
   "mimetype": "text/x-python",
   "name": "python",
   "nbconvert_exporter": "python",
   "pygments_lexer": "ipython3",
   "version": "3.10.12"
  }
 },
 "nbformat": 4,
 "nbformat_minor": 2
}
