{
 "cells": [
  {
   "cell_type": "code",
   "execution_count": 1,
   "metadata": {},
   "outputs": [
    {
     "name": "stderr",
     "output_type": "stream",
     "text": [
      "/home/matt/.local/lib/python3.10/site-packages/tqdm/auto.py:21: TqdmWarning: IProgress not found. Please update jupyter and ipywidgets. See https://ipywidgets.readthedocs.io/en/stable/user_install.html\n",
      "  from .autonotebook import tqdm as notebook_tqdm\n",
      "/home/matt/.local/lib/python3.10/site-packages/huggingface_hub/file_download.py:1132: FutureWarning: `resume_download` is deprecated and will be removed in version 1.0.0. Downloads always resume when possible. If you want to force a new download, use `force_download=True`.\n",
      "  warnings.warn(\n"
     ]
    }
   ],
   "source": [
    "import pandas as pd\n",
    "from sentence_transformers import SentenceTransformer\n",
    "\n",
    "# Load the SentenceTransformer model\n",
    "model = SentenceTransformer('all-MiniLM-L6-v2')"
   ]
  },
  {
   "cell_type": "code",
   "execution_count": 3,
   "metadata": {},
   "outputs": [],
   "source": [
    "# Load movies metadata from movies_metadata.csv\n",
    "movies_metadata = pd.read_csv('../movies_metadata.csv')\n",
    "movies_metadata = movies_metadata.dropna(subset=['overview'])\n",
    "movies_metadata['id'] = movies_metadata['id'].astype(int)\n",
    "movies_metadata['overview'] = movies_metadata['overview'].astype('string')"
   ]
  },
  {
   "cell_type": "code",
   "execution_count": 4,
   "metadata": {},
   "outputs": [],
   "source": [
    "# Load ratings data from ratings.csv\n",
    "ratings_data = pd.read_csv('../ratings.csv')"
   ]
  },
  {
   "cell_type": "code",
   "execution_count": 5,
   "metadata": {},
   "outputs": [
    {
     "name": "stdout",
     "output_type": "stream",
     "text": [
      "       movieId    rating  average\n",
      "0            1  3.888157     3.89\n",
      "1            2  3.236953     3.24\n",
      "2            3  3.175550     3.18\n",
      "3            4  2.875713     2.88\n",
      "4            5  3.079565     3.08\n",
      "...        ...       ...      ...\n",
      "45110   176267  4.000000     4.00\n",
      "45111   176269  3.500000     3.50\n",
      "45112   176271  5.000000     5.00\n",
      "45113   176273  1.000000     1.00\n",
      "45114   176275  3.000000     3.00\n",
      "\n",
      "[45115 rows x 3 columns]\n"
     ]
    }
   ],
   "source": [
    "# Group ratings by movieId and calculate average ratings\n",
    "computed_ratings = ratings_data.groupby('movieId')['rating'].mean().reset_index()\n",
    "\n",
    "# Optionally, you can round the average ratings to a certain number of decimal places\n",
    "computed_ratings['average'] = computed_ratings['rating'].round(2)"
   ]
  },
  {
   "cell_type": "code",
   "execution_count": 6,
   "metadata": {},
   "outputs": [],
   "source": [
    "# Merge movies metadata with average ratings using movieId as key\n",
    "merged_data = pd.merge(movies_metadata, computed_ratings, left_on='id', right_on='movieId', how='inner')"
   ]
  },
  {
   "cell_type": "code",
   "execution_count": 7,
   "metadata": {},
   "outputs": [],
   "source": [
    "# Process overview text and obtain embeddings\n",
    "overview_embeddings = model.encode(merged_data['overview'])"
   ]
  },
  {
   "cell_type": "code",
   "execution_count": 8,
   "metadata": {},
   "outputs": [],
   "source": [
    "# Pair movieId with overview embeddings and average ratings\n",
    "paired_data = pd.DataFrame({\n",
    "    'movieId': merged_data['movieId'],\n",
    "    'overview_embedding': overview_embeddings.tolist(),\n",
    "    'average_rating': merged_data['rating']\n",
    "})\n",
    "\n",
    "# Save paired data to a new CSV file\n",
    "paired_data.to_csv('../paired_data.csv', index=False)"
   ]
  }
 ],
 "metadata": {
  "kernelspec": {
   "display_name": "Python 3",
   "language": "python",
   "name": "python3"
  },
  "language_info": {
   "codemirror_mode": {
    "name": "ipython",
    "version": 3
   },
   "file_extension": ".py",
   "mimetype": "text/x-python",
   "name": "python",
   "nbconvert_exporter": "python",
   "pygments_lexer": "ipython3",
   "version": "3.10.12"
  }
 },
 "nbformat": 4,
 "nbformat_minor": 2
}
