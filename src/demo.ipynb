{
 "cells": [
  {
   "cell_type": "code",
   "execution_count": 10,
   "metadata": {},
   "outputs": [],
   "source": [
    "import tensorflow as tf\n",
    "\n",
    "# Define the neural network architecture\n",
    "model = tf.keras.models.load_model('movie_rating_prediction_model.keras')"
   ]
  },
  {
   "cell_type": "code",
   "execution_count": 3,
   "metadata": {},
   "outputs": [],
   "source": [
    "import pandas as pd\n",
    "from sentence_transformers import SentenceTransformer\n",
    "\n",
    "# Load the SentenceTransformer model\n",
    "transformer = SentenceTransformer('all-MiniLM-L6-v2')"
   ]
  },
  {
   "cell_type": "code",
   "execution_count": 17,
   "metadata": {},
   "outputs": [
    {
     "name": "stdout",
     "output_type": "stream",
     "text": [
      "The filmmaking team behind the hits \"Scary Movie,\" \"Date Movie,\" \"Epic Movie\" and \"Meet The Spartans\" this time puts its unique, inimitable stamp on one of the biggest and most bloated movie genres of all time -- the disaster film.\n",
      "\u001b[1m1/1\u001b[0m \u001b[32m━━━━━━━━━━━━━━━━━━━━\u001b[0m\u001b[37m\u001b[0m \u001b[1m0s\u001b[0m 21ms/step\n",
      "prediction: [[3.3559082]]\n"
     ]
    }
   ],
   "source": [
    "from sklearn.preprocessing import StandardScaler\n",
    "from joblib import load\n",
    "import numpy as np\n",
    "\n",
    "overview: str = input(\"Give your movie overview: \")\n",
    "print(overview)\n",
    "\n",
    "# Assuming scaler is your StandardScaler object\n",
    "scaler = StandardScaler()\n",
    "\n",
    "# Later, to load the scaler from the file\n",
    "scaler = load('scaler.joblib')\n",
    "\n",
    "# Now you can use the loaded scaler to transform new data\n",
    "scaled_embed = scaler.transform(np.array(transformer.encode(overview)).reshape(1, -1))\n",
    "\n",
    "predicted_rating = model.predict(scaled_embed)\n",
    "\n",
    "print(f\"prediction: {predicted_rating}\")"
   ]
  }
 ],
 "metadata": {
  "kernelspec": {
   "display_name": "Python 3",
   "language": "python",
   "name": "python3"
  },
  "language_info": {
   "codemirror_mode": {
    "name": "ipython",
    "version": 3
   },
   "file_extension": ".py",
   "mimetype": "text/x-python",
   "name": "python",
   "nbconvert_exporter": "python",
   "pygments_lexer": "ipython3",
   "version": "3.10.12"
  }
 },
 "nbformat": 4,
 "nbformat_minor": 2
}
